{
 "cells": [
  {
   "cell_type": "markdown",
   "id": "481d3885",
   "metadata": {},
   "source": [
    "# Here are deploying the Model"
   ]
  },
  {
   "cell_type": "code",
   "execution_count": 15,
   "id": "a77b59c6",
   "metadata": {},
   "outputs": [],
   "source": [
    "from tensorflow.keras.applications import MobileNetV2\n",
    "from tensorflow.keras.models import Model\n",
    "import joblib\n",
    "\n",
    "# Load MobileNetV2 without top classification layer\n",
    "base_model = MobileNetV2(weights='imagenet', include_top=False, input_shape=(224, 224, 3))\n",
    "\n",
    "# Flatten output to 1D vector\n",
    "from tensorflow.keras.layers import GlobalAveragePooling2D\n",
    "x = GlobalAveragePooling2D()(base_model.output)\n",
    "\n",
    "# Create feature extractor model\n",
    "feature_extractor = Model(inputs=base_model.input, outputs=x)\n",
    "\n",
    "\n",
    "# Save the model in HDF5 format\n",
    "# Save using the recommended format\n",
    "feature_extractor.save(\"feature_extractor.keras\")\n",
    "\n",
    "from tensorflow.keras.models import load_model\n",
    "extractor = load_model(\"feature_extractor.keras\")\n",
    "\n",
    "# Save the feature extractor using joblib\n",
    "# Save the model in HDF5 format\n",
    "feature_extractor.save(\"feature_extractor.keras\")\n",
    "\n"
   ]
  },
  {
   "cell_type": "code",
   "execution_count": 18,
   "id": "00b0ff9d",
   "metadata": {},
   "outputs": [],
   "source": [
    "import sys\n",
    "import os\n",
    "\n",
    "# Add the directory containing 'Helpers.py' to sys.path\n",
    "sys.path.append(os.path.abspath(os.path.join(os.getcwd(), r\"C:\\Users\\Admin\\OneDrive\\Documents\\Schoolwork\\Third year\\First Sem\\Machine Learning\\Project\\Faces dataset\\AgePredictionDemo\\Utils\")))\n",
    "\n",
    "from Helpers import preprocess_image, extract_features, predict_age"
   ]
  },
  {
   "cell_type": "code",
   "execution_count": 19,
   "id": "7bec6e6f",
   "metadata": {},
   "outputs": [
    {
     "name": "stderr",
     "output_type": "stream",
     "text": [
      "2025-08-05 13:40:58.187 Thread 'MainThread': missing ScriptRunContext! This warning can be ignored when running in bare mode.\n",
      "2025-08-05 13:40:58.188 Thread 'MainThread': missing ScriptRunContext! This warning can be ignored when running in bare mode.\n",
      "2025-08-05 13:40:58.189 Thread 'MainThread': missing ScriptRunContext! This warning can be ignored when running in bare mode.\n",
      "2025-08-05 13:40:58.189 Thread 'MainThread': missing ScriptRunContext! This warning can be ignored when running in bare mode.\n",
      "2025-08-05 13:40:58.190 Thread 'MainThread': missing ScriptRunContext! This warning can be ignored when running in bare mode.\n",
      "2025-08-05 13:40:58.191 Thread 'MainThread': missing ScriptRunContext! This warning can be ignored when running in bare mode.\n",
      "2025-08-05 13:40:58.191 Thread 'MainThread': missing ScriptRunContext! This warning can be ignored when running in bare mode.\n",
      "2025-08-05 13:40:58.192 Thread 'MainThread': missing ScriptRunContext! This warning can be ignored when running in bare mode.\n",
      "2025-08-05 13:40:58.193 Thread 'MainThread': missing ScriptRunContext! This warning can be ignored when running in bare mode.\n",
      "2025-08-05 13:40:58.194 Thread 'MainThread': missing ScriptRunContext! This warning can be ignored when running in bare mode.\n",
      "2025-08-05 13:40:58.195 Thread 'MainThread': missing ScriptRunContext! This warning can be ignored when running in bare mode.\n",
      "2025-08-05 13:40:58.196 Thread 'MainThread': missing ScriptRunContext! This warning can be ignored when running in bare mode.\n"
     ]
    }
   ],
   "source": [
    "# App.py# This is a Streamlit app for live age group prediction using an ensemble model\n",
    "# It allows users to upload a photo, processes it, and predicts the age group using a pre-trained ensemble model.\n",
    "# The app uses a feature extractor to preprocess the image before making predictions.\n",
    "\n",
    "import streamlit as st\n",
    "import joblib\n",
    "import numpy as np\n",
    "from PIL import Image\n",
    "import cv2\n",
    "\n",
    "\n",
    "# Load ensemble model\n",
    "model = joblib.load(ENSEMBLE_MODEL_PATH)\n",
    "\n",
    "from tensorflow.keras.models import load_model\n",
    "from tensorflow.keras.models import load_model\n",
    "extractor = load_model(\"feature_extractor.keras\")\n",
    "\n",
    "\n",
    "\n",
    "st.title(\"🎉 Live Age Group Prediction\")\n",
    "st.markdown(\"Upload a photo and let the ensemble model guess your age group!\")\n",
    "\n",
    "# Upload section\n",
    "uploaded_file = st.file_uploader(\"Upload an image\", type=[\"jpg\", \"png\", \"jpeg\"])\n",
    "\n",
    "if uploaded_file is not None:\n",
    "    # Display image\n",
    "    image = Image.open(uploaded_file)\n",
    "    st.image(image, caption=\"Classmate Photo\", use_column_width=True)\n",
    "\n",
    "    # Preprocess (adapt based on your CNN input)\n",
    "    image_np = np.array(image.resize((224, 224))) / 255.0\n",
    "    image_np = image_np.reshape(1, 224, 224, 3)\n",
    "\n",
    "    # Feature extraction\n",
    "    features = extractor.predict(image_np)\n",
    "\n",
    "    # Predict\n",
    "    prediction = model.predict(features)\n",
    "    st.success(f\"🧠 Predicted Age Group: **{prediction[0]}**\")\n",
    "\n"
   ]
  }
 ],
 "metadata": {
  "kernelspec": {
   "display_name": "Python 3",
   "language": "python",
   "name": "python3"
  },
  "language_info": {
   "codemirror_mode": {
    "name": "ipython",
    "version": 3
   },
   "file_extension": ".py",
   "mimetype": "text/x-python",
   "name": "python",
   "nbconvert_exporter": "python",
   "pygments_lexer": "ipython3",
   "version": "3.13.1"
  }
 },
 "nbformat": 4,
 "nbformat_minor": 5
}
