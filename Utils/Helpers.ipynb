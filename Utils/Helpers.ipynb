{
 "cells": [
  {
   "cell_type": "code",
   "execution_count": 4,
   "id": "31d7b691",
   "metadata": {},
   "outputs": [],
   "source": [
    "import numpy as np\n",
    "from PIL import Image\n",
    "from tensorflow.keras.models import load_model\n",
    "import pickle\n",
    "import joblib\n",
    "\n",
    "# Load models\n",
    "FEATURE_EXTRACTOR_PATH = \"C:\\\\Users\\\\Admin\\\\OneDrive\\\\Documents\\\\Schoolwork\\\\Third year\\\\First Sem\\\\Machine Learning\\\\Project\\\\Faces dataset\\\\AgePredictionDemo\\\\Models\\\\feature_extractor.keras\"\n",
    "ENSEMBLE_MODEL_PATH = \"C:\\\\Users\\\\Admin\\\\OneDrive\\\\Documents\\\\Schoolwork\\\\Third year\\\\First Sem\\\\Machine Learning\\\\Project\\\\Faces dataset\\\\AgePredictionDemo\\\\Models\\\\ensemble_age_model.pkl\"\n",
    "feature_extractor = load_model(FEATURE_EXTRACTOR_PATH)\n",
    "ensemble_model = joblib.load(ENSEMBLE_MODEL_PATH)\n",
    "\n",
    "# 💡 Image Preprocessing\n",
    "def preprocess_image(image: Image.Image, target_size=(224, 224)) -> np.ndarray:\n",
    "    \"\"\"Resizes and normalizes the input image for CNN extraction.\"\"\"\n",
    "    image = image.convert(\"RGB\")\n",
    "    image = image.resize(target_size)\n",
    "    image_array = np.array(image) / 255.0  # Normalize\n",
    "    return np.expand_dims(image_array, axis=0)\n",
    "\n",
    "# 🧠 Feature Extraction\n",
    "def extract_features(image_array: np.ndarray) -> np.ndarray:\n",
    "    \"\"\"Runs the preprocessed image through the CNN feature extractor.\"\"\"\n",
    "    features = feature_extractor.predict(image_array)\n",
    "    return features.reshape(1, -1)\n",
    "\n",
    "# 🎯 Age Prediction\n",
    "def predict_age(features: np.ndarray) -> float:\n",
    "    \"\"\"Uses the ensemble model to predict age from CNN features.\"\"\"\n",
    "    age = ensemble_model.predict(features)[0]\n",
    "    return round(age, 1)\n",
    "\n"
   ]
  }
 ],
 "metadata": {
  "kernelspec": {
   "display_name": "Python 3",
   "language": "python",
   "name": "python3"
  },
  "language_info": {
   "codemirror_mode": {
    "name": "ipython",
    "version": 3
   },
   "file_extension": ".py",
   "mimetype": "text/x-python",
   "name": "python",
   "nbconvert_exporter": "python",
   "pygments_lexer": "ipython3",
   "version": "3.13.1"
  }
 },
 "nbformat": 4,
 "nbformat_minor": 5
}
